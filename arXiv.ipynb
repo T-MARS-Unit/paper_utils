{
 "cells": [
  {
   "cell_type": "code",
   "execution_count": null,
   "metadata": {},
   "outputs": [],
   "source": [
    "import arxiv\n",
    "\n",
    "# Construct the default API client.\n",
    "client = arxiv.Client()\n",
    "\n",
    "# Search for the 10 most recent articles matching the keyword \"quantum.\"\n",
    "# -----\n",
    "# sort_by\n",
    "# Relevance \n",
    "# LastUpdatedDate \n",
    "# SubmittedDate\n",
    "# -----\n",
    "# order\n",
    "# Ascending\n",
    "# Descending\n",
    "\n",
    "search = arxiv.Search(\n",
    "    query = \"Large Language Models; Planning\",\n",
    "    max_results = 500,\n",
    "    sort_by = arxiv.SortCriterion.SubmittedDate,\n",
    "    sort_order = arxiv.SortOrder.Descending,\n",
    ")\n",
    "\n",
    "results = client.results(search)\n",
    "# for r in client.results(search):\n",
    "#   print(r.title, r.published)"
   ]
  },
  {
   "cell_type": "code",
   "execution_count": null,
   "metadata": {},
   "outputs": [],
   "source": [
    "from tqdm import tqdm \n",
    "\n",
    "res = []\n",
    "for r in tqdm(results, total=500):\n",
    "    res.append(f'[arXiv {r.published.year}.{r.published.month:02d}] ' + r.title + f'[[paper]]({r.links[-1].href})')"
   ]
  },
  {
   "cell_type": "code",
   "execution_count": null,
   "metadata": {},
   "outputs": [],
   "source": [
    "for paper_info in res:\n",
    "    print(paper_info)"
   ]
  }
 ],
 "metadata": {
  "language_info": {
   "name": "python"
  }
 },
 "nbformat": 4,
 "nbformat_minor": 2
}
