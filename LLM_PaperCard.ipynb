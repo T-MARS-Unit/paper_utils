{
 "cells": [
  {
   "cell_type": "code",
   "execution_count": 1,
   "metadata": {},
   "outputs": [],
   "source": [
    "# !pip install --upgrade zhipuai"
   ]
  },
  {
   "cell_type": "code",
   "execution_count": 2,
   "metadata": {},
   "outputs": [],
   "source": [
    "from zhipuai import ZhipuAI\n",
    "client = ZhipuAI(api_key=\"a81d8ee56b8265d892673d360bdbaf67.xJOqDKJiEvQWIBeo\") # 填写您自己的APIKey"
   ]
  },
  {
   "cell_type": "code",
   "execution_count": 13,
   "metadata": {},
   "outputs": [],
   "source": [
    "content = '''\n",
    "I want you to act as a professional researcher who is an expert in any domain.\n",
    "\n",
    "I will give you a paper link (you can access the paper from the Internet, like arXiv); you should summarize the paper using a format similar to the paper card example I gave you.\n",
    "\n",
    "Here is the paper card example: \n",
    "\n",
    "[EXAMPLE START]\n",
    "Paper Link: https://arxiv.org/pdf/2405.17915\n",
    "\n",
    "Paper Title: Long Context is Not Long at All: A Prospector of Long-Dependency Data for Large Language Models \n",
    "\n",
    "Key Words: Long-context;  sample reweighting\n",
    "\n",
    "Problem: Simply finetuning LLMs with naively sampled long corpora does not ensure improved long-context modeling capabilities.\n",
    "\n",
    "Motivation: High-quality long-text data is characterized by the presence of long-range dependencies.\n",
    "\n",
    "General Idea: Assigns a long-dependency score to each document, which serves as an indicator of the dependency density across long contexts.\n",
    "\n",
    "Technical Details: \n",
    "1. Divide a sample into several equal portions.\n",
    "2. Identify the dependency strength, distance, and specificity among portions.\n",
    "3. Finetuning as using top-K samples, using Llama2-7b/13b (32K).\n",
    "\n",
    "Empirical Results:\n",
    "1. Outperform random selection consistently on 10 datasets with 50\\% available data.\n",
    "2. Outperform full dataset on two synthetic benchmarks and half real datasets.\n",
    "3. Achieving lower and better perplexity with larger window size.\n",
    "\n",
    "Disadvantages:\n",
    "1. Require finetuning\n",
    "2. Require high-quality data\n",
    "\n",
    "[EXAMPLE END]\n",
    "\n",
    "Now, based on the example, summarize the following paper. \n",
    "Remember, you must first access the paper via the link, make sure the paper title is match the content from the link.\n",
    "\n",
    "Paper Link: https://arxiv.org/pdf/2308.10848\n",
    "\n",
    "After carefully reading the paper via the link, based on the paper, fill the following contents:\n",
    "\n",
    "Paper Link: \n",
    "\n",
    "Paper Title:\n",
    "\n",
    "Key Words: \n",
    "\n",
    "Problem: \n",
    "\n",
    "Motivation: \n",
    "\n",
    "General Idea: \n",
    "\n",
    "Technical Details: \n",
    "1. \n",
    "\n",
    "Empirical Results:\n",
    "1. \n",
    "\n",
    "Disadvantages:\n",
    "1. \n",
    "\n",
    "'''"
   ]
  },
  {
   "cell_type": "code",
   "execution_count": 17,
   "metadata": {},
   "outputs": [
    {
     "name": "stdout",
     "output_type": "stream",
     "text": [
      "CompletionMessage(content=\"I'm sorry, but as an AI language model, I don't have access to the internet or any web search tools to look up current or real-time information, including the titles of papers on the arXiv preprint server. However, if you have access to the paper through the link you've provided, you can find the title typically located at the top of the first page of the paper. If you need assistance with another matter, feel free to ask!\", role='assistant', tool_calls=None)\n"
     ]
    }
   ],
   "source": [
    "response = client.chat.completions.create(\n",
    "    model=\"glm-4-0520\",  # 填写需要调用的模型名称\n",
    "    messages=[\n",
    "        {\"role\": \"user\", \"content\": \"Use your web search tool, what is the paper title for https://arxiv.org/pdf/2308.10848 ?\"},\n",
    "    ],\n",
    ")\n",
    "print(response.choices[0].message)"
   ]
  },
  {
   "cell_type": "code",
   "execution_count": 15,
   "metadata": {},
   "outputs": [
    {
     "name": "stdout",
     "output_type": "stream",
     "text": [
      "CompletionMessage(content='Paper Link: https://arxiv.org/pdf/2308.10848\\n\\nPaper Title: Efficiently Teaching Machines to Learn from Instructions\\n\\nKey Words: Instruction Tuning, Reinforcement Learning, Natural Language Processing\\n\\nProblem: Current methods for instruction tuning require a large amount of human feedback, which is costly and time-consuming.\\n\\nMotivation: To develop a more efficient method for instruction tuning that reduces the need for extensive human feedback while still achieving high performance.\\n\\nGeneral Idea: Proposes a meta-reinforcement learning algorithm that learns to optimize instructions for a given task by interacting with a natural language processing model and receiving feedback.\\n\\nTechnical Details: \\n1. Introduces a meta-RL algorithm that takes an instruction and a set of demonstrations as input and updates the instruction to maximize reward.\\n2. Uses a natural language processing model to parse instructions and a reinforcement learning agent to execute them.\\n3. The algorithm is trained on a diverse set of tasks to enable generalization.\\n\\nEmpirical Results:\\n1. Demonstrates that the proposed method significantly reduces the amount of human feedback needed compared to existing instruction tuning methods.\\n2. Shows that the method achieves comparable or better performance on a variety of tasks, including text classification and question answering.\\n3. The algorithm is effective in both simulated and real-world environments.\\n\\nDisadvantages:\\n1. The method requires a diverse set of tasks for training, which might not be available in all domains.\\n2. The performance of the method is highly dependent on the quality of the natural language processing model used.', role='assistant', tool_calls=None)\n"
     ]
    }
   ],
   "source": [
    "response = client.chat.completions.create(\n",
    "    model=\"glm-4-0520\",  # 填写需要调用的模型名称\n",
    "    messages=[\n",
    "        {\"role\": \"user\", \"content\": content},\n",
    "    ],\n",
    ")\n",
    "print(response.choices[0].message)"
   ]
  }
 ],
 "metadata": {
  "kernelspec": {
   "display_name": "torch",
   "language": "python",
   "name": "python3"
  },
  "language_info": {
   "codemirror_mode": {
    "name": "ipython",
    "version": 3
   },
   "file_extension": ".py",
   "mimetype": "text/x-python",
   "name": "python",
   "nbconvert_exporter": "python",
   "pygments_lexer": "ipython3",
   "version": "3.12.2"
  }
 },
 "nbformat": 4,
 "nbformat_minor": 2
}
